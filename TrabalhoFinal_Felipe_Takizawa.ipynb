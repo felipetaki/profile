{
  "nbformat": 4,
  "nbformat_minor": 0,
  "metadata": {
    "celltoolbar": "Create Assignment",
    "kernelspec": {
      "display_name": "Python 3",
      "language": "python",
      "name": "python3"
    },
    "language_info": {
      "codemirror_mode": {
        "name": "ipython",
        "version": 3
      },
      "file_extension": ".py",
      "mimetype": "text/x-python",
      "name": "python",
      "nbconvert_exporter": "python",
      "pygments_lexer": "ipython3",
      "version": "3.8.3"
    },
    "colab": {
      "name": "TrabalhoFinal - Felipe Takizawa.ipynb",
      "provenance": [],
      "collapsed_sections": [],
      "include_colab_link": true
    }
  },
  "cells": [
    {
      "cell_type": "markdown",
      "metadata": {
        "id": "view-in-github",
        "colab_type": "text"
      },
      "source": [
        "<a href=\"https://colab.research.google.com/github/felipetaki/profile/blob/master/TrabalhoFinal_Felipe_Takizawa.ipynb\" target=\"_parent\"><img src=\"https://colab.research.google.com/assets/colab-badge.svg\" alt=\"Open In Colab\"/></a>"
      ]
    },
    {
      "cell_type": "markdown",
      "metadata": {
        "id": "txS5ef71Jo77"
      },
      "source": [
        "## Trabalho Final - Ciência de Dados - Enap / 2021\r\n",
        "#### Aluno: Felipe Takizawa"
      ]
    },
    {
      "cell_type": "markdown",
      "metadata": {
        "id": "HOYFdjWTJo8J"
      },
      "source": [
        "### Apresentação"
      ]
    },
    {
      "cell_type": "markdown",
      "metadata": {
        "id": "aVZBNZcKDciD"
      },
      "source": [
        "##### O Dataset deste trabalho são as informações prisionais estaduais, retiradas do SISDEPEN.\r\n",
        "\r\n",
        "O SISDEPEN é um sistema gerido pelo Departamento Penitenciário Nacional - DEPEN, e trata de informações restritas.\r\n",
        "\r\n",
        "Tais dados são populados, dentro do sistema, pelos próprios estados e o Distrito Federal.\r\n",
        "\r\n",
        "Dentre os dados, temos o sexo dos detentos, a quantidade de detentos, a quantidade máxima que o presídio deveria ter,\r\n",
        "a unidade federativa a qual pertence o presídio, entre outras várias informações importantes.\r\n",
        "\r\n",
        "Foi realizado upload do arquivo no Github, pois se trata de documento restrito.\r\n",
        "\r\n",
        "Deste modo, pôde-se realizar os procedimentos na tabela por meio do \"path\" com link do Github."
      ]
    },
    {
      "cell_type": "markdown",
      "metadata": {
        "id": "lLlLNMXsJo8L"
      },
      "source": [
        "#### Link para download do dataset:"
      ]
    },
    {
      "cell_type": "code",
      "metadata": {
        "id": "s83DGiraJo8M"
      },
      "source": [
        "# Caminho da planilha de Excel carregada no Github\r\n",
        "path = 'https://github.com/felipetaki/profile/blob/master/images/tabela.xlsx?raw=true'"
      ],
      "execution_count": null,
      "outputs": []
    },
    {
      "cell_type": "markdown",
      "metadata": {
        "id": "AokEBQ5dJo8N"
      },
      "source": [
        "### Motivação Pessoal"
      ]
    },
    {
      "cell_type": "markdown",
      "metadata": {
        "id": "UMupCA04Dyf6"
      },
      "source": [
        "##### Trabalho no Departamento Penitenciário Nacional e, apesar de eu não ter que lidar com ciência de dados, eu tenho interesse.\r\n",
        "Destarte, vi a motivação para captar as informações de unidades prisionais, e tentar transformá-las em conhecimento, \r\n",
        "pois trabalho numa área que acessa muitos dados, que é a tecnologia de informação e comunicação.\r\n",
        "\r\n",
        "Neste momento, pretendo obter algum conhecimento básico com as informações menos detalhadas, portanto, será um projeto simples.\r\n",
        "\r\n",
        "O órgão não possui ainda um setor de ciência de dados aplicada, então é mais uma motivação a realizar este projeto.\r\n",
        "\r\n",
        "Trata-se de uma motivação de cunho pessoal, mas que está ligada intimamente ao meu trabalho no Departamento Penitenciário Nacional."
      ]
    },
    {
      "cell_type": "markdown",
      "metadata": {
        "id": "C4WU36z8Jo8O"
      },
      "source": [
        "### Investigação"
      ]
    },
    {
      "cell_type": "code",
      "metadata": {
        "id": "D8p8g9XuJo8Q"
      },
      "source": [
        "# Importando as bibliotecas a serem usadas na investigação:\r\n",
        "import pandas as pd\r\n",
        "import matplotlib.pyplot as plt \r\n",
        "import seaborn as sns "
      ],
      "execution_count": null,
      "outputs": []
    },
    {
      "cell_type": "markdown",
      "metadata": {
        "id": "KYfDKWHUEH8-"
      },
      "source": [
        "##### Neste momento será carregado o arquivo de Excel em repositório no Github.\r\n",
        "\r\n",
        "Estas não são informações que devem ser encontradas facilmente, por isso a necessidade de inserir no Github.\r\n",
        "\r\n",
        "Carregando os dados:"
      ]
    },
    {
      "cell_type": "code",
      "metadata": {
        "colab": {
          "base_uri": "https://localhost:8080/",
          "height": 476
        },
        "id": "pr64CEwlWePV",
        "outputId": "8d4668e9-b3cb-4ac8-c3e6-ebda1a3f268d"
      },
      "source": [
        "sisdepen = pd.read_excel(path, usecols=[0,1,10,11,12,15,16,17,18,19], skiprows=0, skipfooter=0)\r\n",
        "                      # Foi feito o carregamento com apenas algumas colunas da tabela no path,\r\n",
        "                      # para testes de leitura, dentro da variável sisdepen, que é o nome do sistema.\r\n",
        "                      # Estão são as colunas que serão usadas para a análise de dados:\r\n",
        "sisdepen.head()"
      ],
      "execution_count": null,
      "outputs": [
        {
          "output_type": "execute_result",
          "data": {
            "text/html": [
              "<div>\n",
              "<style scoped>\n",
              "    .dataframe tbody tr th:only-of-type {\n",
              "        vertical-align: middle;\n",
              "    }\n",
              "\n",
              "    .dataframe tbody tr th {\n",
              "        vertical-align: top;\n",
              "    }\n",
              "\n",
              "    .dataframe thead th {\n",
              "        text-align: right;\n",
              "    }\n",
              "</style>\n",
              "<table border=\"1\" class=\"dataframe\">\n",
              "  <thead>\n",
              "    <tr style=\"text-align: right;\">\n",
              "      <th></th>\n",
              "      <th>A.Ano</th>\n",
              "      <th>A.Referencia</th>\n",
              "      <th>A.Âmbito</th>\n",
              "      <th>A.UF</th>\n",
              "      <th>A.Município</th>\n",
              "      <th>A.1.1 Estabelecimento originalmente destinado a pessoa privadas de liberdade do sexo</th>\n",
              "      <th>A.1.2 Tipo de estabelecimento - originalmente destinado</th>\n",
              "      <th>M.1.3 Capacidade do estabelecimento | Presos provisórios | Masculino</th>\n",
              "      <th>M.1.3 Capacidade do estabelecimento | Presos provisórios | Feminino</th>\n",
              "      <th>M.1.3 Capacidade do estabelecimento | Presos provisórios | Total</th>\n",
              "    </tr>\n",
              "  </thead>\n",
              "  <tbody>\n",
              "    <tr>\n",
              "      <th>0</th>\n",
              "      <td>2019</td>\n",
              "      <td>Junho</td>\n",
              "      <td>Estadual</td>\n",
              "      <td>AC</td>\n",
              "      <td>Cruzeiro do Sul</td>\n",
              "      <td>Misto</td>\n",
              "      <td>Estabelecimento destinado ao cumprimento de pe...</td>\n",
              "      <td>NaN</td>\n",
              "      <td>NaN</td>\n",
              "      <td>NaN</td>\n",
              "    </tr>\n",
              "    <tr>\n",
              "      <th>1</th>\n",
              "      <td>2019</td>\n",
              "      <td>Junho</td>\n",
              "      <td>Estadual</td>\n",
              "      <td>AC</td>\n",
              "      <td>Feijó</td>\n",
              "      <td>Misto</td>\n",
              "      <td>Outro : Monitoramento eletronico</td>\n",
              "      <td>0.0</td>\n",
              "      <td>0.0</td>\n",
              "      <td>0.0</td>\n",
              "    </tr>\n",
              "    <tr>\n",
              "      <th>2</th>\n",
              "      <td>2019</td>\n",
              "      <td>Junho</td>\n",
              "      <td>Estadual</td>\n",
              "      <td>AC</td>\n",
              "      <td>Tarauacá</td>\n",
              "      <td>Misto</td>\n",
              "      <td>Outro : Monitoramento eletronico</td>\n",
              "      <td>0.0</td>\n",
              "      <td>0.0</td>\n",
              "      <td>0.0</td>\n",
              "    </tr>\n",
              "    <tr>\n",
              "      <th>3</th>\n",
              "      <td>2019</td>\n",
              "      <td>Junho</td>\n",
              "      <td>Estadual</td>\n",
              "      <td>AC</td>\n",
              "      <td>Rio Branco</td>\n",
              "      <td>Misto</td>\n",
              "      <td>Outro : Unidade Penitenciária Virtual sob sist...</td>\n",
              "      <td>100.0</td>\n",
              "      <td>100.0</td>\n",
              "      <td>200.0</td>\n",
              "    </tr>\n",
              "    <tr>\n",
              "      <th>4</th>\n",
              "      <td>2019</td>\n",
              "      <td>Junho</td>\n",
              "      <td>Estadual</td>\n",
              "      <td>AC</td>\n",
              "      <td>Rio Branco</td>\n",
              "      <td>Masculino</td>\n",
              "      <td>Estabelecimento destinado ao recolhimento de p...</td>\n",
              "      <td>440.0</td>\n",
              "      <td>NaN</td>\n",
              "      <td>440.0</td>\n",
              "    </tr>\n",
              "  </tbody>\n",
              "</table>\n",
              "</div>"
            ],
            "text/plain": [
              "   A.Ano  ... M.1.3 Capacidade do estabelecimento | Presos provisórios | Total\n",
              "0   2019  ...                                                NaN              \n",
              "1   2019  ...                                                0.0              \n",
              "2   2019  ...                                                0.0              \n",
              "3   2019  ...                                              200.0              \n",
              "4   2019  ...                                              440.0              \n",
              "\n",
              "[5 rows x 10 columns]"
            ]
          },
          "metadata": {
            "tags": []
          },
          "execution_count": 149
        }
      ]
    },
    {
      "cell_type": "markdown",
      "metadata": {
        "id": "lowf7srQEYKn"
      },
      "source": [
        "##### Verificou-se que os nomes das colunas estão um pouco ruins de trabalhar, portanto, serão modificados:"
      ]
    },
    {
      "cell_type": "code",
      "metadata": {
        "colab": {
          "base_uri": "https://localhost:8080/",
          "height": 204
        },
        "id": "8V-pPlsUKBXf",
        "outputId": "d35721ee-5c7d-4750-fe04-ccf8323da548"
      },
      "source": [
        "sisdepen.rename(columns=\r\n",
        "                {  \"A.Ano\": \"Ano\",\r\n",
        "                   \"A.Referencia\": \"Mes\",\r\n",
        "                   \"A.Âmbito\": \"Unidade\",\r\n",
        "                   \"A.UF\": \"Estado\",\r\n",
        "                   \"A.Município\": \"Cidade\",\r\n",
        "                   \"A.1.1 Estabelecimento originalmente destinado a pessoa privadas de liberdade do sexo\": \"Sexo\",\r\n",
        "                   \"A.1.2 Tipo de estabelecimento - originalmente destinado\":\"Tipo do estabelecimento penal\",\r\n",
        "                   \"M.1.3 Capacidade do estabelecimento | Presos provisórios | Masculino\": \"Capacidade homens\", \r\n",
        "                   \"M.1.3 Capacidade do estabelecimento | Presos provisórios | Feminino\": \"Capacidade mulheres\", \r\n",
        "                   \"M.1.3 Capacidade do estabelecimento | Presos provisórios | Total\": \"Capacidade total\"\r\n",
        "                }, inplace = True)\r\n",
        "sisdepen.head()\r\n",
        "# Assim, o nome das colunas foi alterado para se melhor trabalhar."
      ],
      "execution_count": null,
      "outputs": [
        {
          "output_type": "execute_result",
          "data": {
            "text/html": [
              "<div>\n",
              "<style scoped>\n",
              "    .dataframe tbody tr th:only-of-type {\n",
              "        vertical-align: middle;\n",
              "    }\n",
              "\n",
              "    .dataframe tbody tr th {\n",
              "        vertical-align: top;\n",
              "    }\n",
              "\n",
              "    .dataframe thead th {\n",
              "        text-align: right;\n",
              "    }\n",
              "</style>\n",
              "<table border=\"1\" class=\"dataframe\">\n",
              "  <thead>\n",
              "    <tr style=\"text-align: right;\">\n",
              "      <th></th>\n",
              "      <th>Ano</th>\n",
              "      <th>Mes</th>\n",
              "      <th>Unidade</th>\n",
              "      <th>Estado</th>\n",
              "      <th>Cidade</th>\n",
              "      <th>Sexo</th>\n",
              "      <th>Tipo do estabelecimento penal</th>\n",
              "      <th>Capacidade homens</th>\n",
              "      <th>Capacidade mulheres</th>\n",
              "      <th>Capacidade total</th>\n",
              "    </tr>\n",
              "  </thead>\n",
              "  <tbody>\n",
              "    <tr>\n",
              "      <th>0</th>\n",
              "      <td>2019</td>\n",
              "      <td>Junho</td>\n",
              "      <td>Estadual</td>\n",
              "      <td>AC</td>\n",
              "      <td>Cruzeiro do Sul</td>\n",
              "      <td>Misto</td>\n",
              "      <td>Estabelecimento destinado ao cumprimento de pe...</td>\n",
              "      <td>NaN</td>\n",
              "      <td>NaN</td>\n",
              "      <td>NaN</td>\n",
              "    </tr>\n",
              "    <tr>\n",
              "      <th>1</th>\n",
              "      <td>2019</td>\n",
              "      <td>Junho</td>\n",
              "      <td>Estadual</td>\n",
              "      <td>AC</td>\n",
              "      <td>Feijó</td>\n",
              "      <td>Misto</td>\n",
              "      <td>Outro : Monitoramento eletronico</td>\n",
              "      <td>0.0</td>\n",
              "      <td>0.0</td>\n",
              "      <td>0.0</td>\n",
              "    </tr>\n",
              "    <tr>\n",
              "      <th>2</th>\n",
              "      <td>2019</td>\n",
              "      <td>Junho</td>\n",
              "      <td>Estadual</td>\n",
              "      <td>AC</td>\n",
              "      <td>Tarauacá</td>\n",
              "      <td>Misto</td>\n",
              "      <td>Outro : Monitoramento eletronico</td>\n",
              "      <td>0.0</td>\n",
              "      <td>0.0</td>\n",
              "      <td>0.0</td>\n",
              "    </tr>\n",
              "    <tr>\n",
              "      <th>3</th>\n",
              "      <td>2019</td>\n",
              "      <td>Junho</td>\n",
              "      <td>Estadual</td>\n",
              "      <td>AC</td>\n",
              "      <td>Rio Branco</td>\n",
              "      <td>Misto</td>\n",
              "      <td>Outro : Unidade Penitenciária Virtual sob sist...</td>\n",
              "      <td>100.0</td>\n",
              "      <td>100.0</td>\n",
              "      <td>200.0</td>\n",
              "    </tr>\n",
              "    <tr>\n",
              "      <th>4</th>\n",
              "      <td>2019</td>\n",
              "      <td>Junho</td>\n",
              "      <td>Estadual</td>\n",
              "      <td>AC</td>\n",
              "      <td>Rio Branco</td>\n",
              "      <td>Masculino</td>\n",
              "      <td>Estabelecimento destinado ao recolhimento de p...</td>\n",
              "      <td>440.0</td>\n",
              "      <td>NaN</td>\n",
              "      <td>440.0</td>\n",
              "    </tr>\n",
              "  </tbody>\n",
              "</table>\n",
              "</div>"
            ],
            "text/plain": [
              "    Ano    Mes  ... Capacidade mulheres Capacidade total\n",
              "0  2019  Junho  ...                 NaN              NaN\n",
              "1  2019  Junho  ...                 0.0              0.0\n",
              "2  2019  Junho  ...                 0.0              0.0\n",
              "3  2019  Junho  ...               100.0            200.0\n",
              "4  2019  Junho  ...                 NaN            440.0\n",
              "\n",
              "[5 rows x 10 columns]"
            ]
          },
          "metadata": {
            "tags": []
          },
          "execution_count": 150
        }
      ]
    },
    {
      "cell_type": "markdown",
      "metadata": {
        "id": "73NwwCcSEVCi"
      },
      "source": [
        "##### Realizados os testes iniciais com as colunas, hora da exposição das informações da tabela, já alterada:\r\n"
      ]
    },
    {
      "cell_type": "code",
      "metadata": {
        "id": "zeFVTisPJo8R",
        "colab": {
          "base_uri": "https://localhost:8080/"
        },
        "outputId": "f596993a-7002-4e32-a61e-dd6127757685"
      },
      "source": [
        "print(sisdepen)\r\n",
        "# Verificou-se que muitas dados não foram preenchidos pois aparece Nan.\r\n",
        "# Isto pode ocorrer porque determinada unidade não trabalhe com algum sexo.\r\n",
        "# No caso de a capacidade total aparecer Nan é porque o estado não preencheu corretamente.\r\n",
        "# Ao todo foram listados 7112 registros. Deve-se realizar a limpeza nos dados."
      ],
      "execution_count": null,
      "outputs": [
        {
          "output_type": "stream",
          "text": [
            "       Ano       Mes  ... Capacidade mulheres Capacidade total\n",
            "0     2019     Junho  ...                 NaN              NaN\n",
            "1     2019     Junho  ...                 0.0              0.0\n",
            "2     2019     Junho  ...                 0.0              0.0\n",
            "3     2019     Junho  ...               100.0            200.0\n",
            "4     2019     Junho  ...                 NaN            440.0\n",
            "...    ...       ...  ...                 ...              ...\n",
            "7107  2020  Dezembro  ...                 0.0              0.0\n",
            "7108  2020  Dezembro  ...                 NaN              NaN\n",
            "7109  2020  Dezembro  ...                 NaN              NaN\n",
            "7110  2020  Dezembro  ...                 NaN              NaN\n",
            "7111  2020  Dezembro  ...                 NaN              NaN\n",
            "\n",
            "[7112 rows x 10 columns]\n"
          ],
          "name": "stdout"
        }
      ]
    },
    {
      "cell_type": "markdown",
      "metadata": {
        "id": "ZNoggbX0FQeI"
      },
      "source": [
        "##### Serão removidas então as linhas cuja coluna da capacidade total não esteja preenchida, ou seja, estejam com NaN:"
      ]
    },
    {
      "cell_type": "code",
      "metadata": {
        "colab": {
          "base_uri": "https://localhost:8080/"
        },
        "id": "xUfCx2iMnshu",
        "outputId": "a66d141e-9b8c-4088-adca-402626bcb9ab"
      },
      "source": [
        "sisdepen_drop = sisdepen.dropna(subset=['Capacidade total'])\r\n",
        "print (sisdepen_drop)"
      ],
      "execution_count": null,
      "outputs": [
        {
          "output_type": "stream",
          "text": [
            "       Ano       Mes  ... Capacidade mulheres Capacidade total\n",
            "1     2019     Junho  ...                 0.0              0.0\n",
            "2     2019     Junho  ...                 0.0              0.0\n",
            "3     2019     Junho  ...               100.0            200.0\n",
            "4     2019     Junho  ...                 NaN            440.0\n",
            "5     2019     Junho  ...                32.0             32.0\n",
            "...    ...       ...  ...                 ...              ...\n",
            "7091  2020  Dezembro  ...                 NaN            240.0\n",
            "7092  2020  Dezembro  ...                 0.0             16.0\n",
            "7093  2020  Dezembro  ...                 NaN            100.0\n",
            "7096  2020  Dezembro  ...                 NaN             40.0\n",
            "7107  2020  Dezembro  ...                 0.0              0.0\n",
            "\n",
            "[3632 rows x 10 columns]\n"
          ],
          "name": "stdout"
        }
      ]
    },
    {
      "cell_type": "code",
      "metadata": {
        "id": "EAoe6AGUFuTW"
      },
      "source": [
        "# Verifica-se que os estados deixam de inserir muitos dados na tabela.\r\n",
        "# Das 7112 apenas restaram 3632, mas ainda muitas linhas possuem dados zerados.\r\n",
        "# Esta é uma situação recorrente, logo, os estados não têm muita vontade em preencher a tabela, para informar ao DEPEN sua situação.\r\n",
        "# Neste caso, limparemos os dados zerados na capacidade total."
      ],
      "execution_count": null,
      "outputs": []
    },
    {
      "cell_type": "markdown",
      "metadata": {
        "id": "Sn34lTubFxIM"
      },
      "source": [
        "##### Limpeza das linhas cuja coluna de capacidade total esteja zerada:"
      ]
    },
    {
      "cell_type": "code",
      "metadata": {
        "id": "sgoxtwAiJo8R",
        "colab": {
          "base_uri": "https://localhost:8080/",
          "height": 606
        },
        "outputId": "83dc4f8b-462d-426c-c94a-19098d681b93"
      },
      "source": [
        "\r\n",
        "df1 = pd.DataFrame()\r\n",
        "df1 = sisdepen_drop[~((sisdepen_drop['Capacidade total'] == 0))]\r\n",
        "print('Total de',str(len(df1)),'registros')\r\n",
        "\r\n",
        "df1"
      ],
      "execution_count": null,
      "outputs": [
        {
          "output_type": "stream",
          "text": [
            "Total de 2996 registros\n"
          ],
          "name": "stdout"
        },
        {
          "output_type": "execute_result",
          "data": {
            "text/html": [
              "<div>\n",
              "<style scoped>\n",
              "    .dataframe tbody tr th:only-of-type {\n",
              "        vertical-align: middle;\n",
              "    }\n",
              "\n",
              "    .dataframe tbody tr th {\n",
              "        vertical-align: top;\n",
              "    }\n",
              "\n",
              "    .dataframe thead th {\n",
              "        text-align: right;\n",
              "    }\n",
              "</style>\n",
              "<table border=\"1\" class=\"dataframe\">\n",
              "  <thead>\n",
              "    <tr style=\"text-align: right;\">\n",
              "      <th></th>\n",
              "      <th>Ano</th>\n",
              "      <th>Mes</th>\n",
              "      <th>Unidade</th>\n",
              "      <th>Estado</th>\n",
              "      <th>Cidade</th>\n",
              "      <th>Sexo</th>\n",
              "      <th>Tipo do estabelecimento penal</th>\n",
              "      <th>Capacidade homens</th>\n",
              "      <th>Capacidade mulheres</th>\n",
              "      <th>Capacidade total</th>\n",
              "    </tr>\n",
              "  </thead>\n",
              "  <tbody>\n",
              "    <tr>\n",
              "      <th>3</th>\n",
              "      <td>2019</td>\n",
              "      <td>Junho</td>\n",
              "      <td>Estadual</td>\n",
              "      <td>AC</td>\n",
              "      <td>Rio Branco</td>\n",
              "      <td>Misto</td>\n",
              "      <td>Outro : Unidade Penitenciária Virtual sob sist...</td>\n",
              "      <td>100.0</td>\n",
              "      <td>100.0</td>\n",
              "      <td>200.0</td>\n",
              "    </tr>\n",
              "    <tr>\n",
              "      <th>4</th>\n",
              "      <td>2019</td>\n",
              "      <td>Junho</td>\n",
              "      <td>Estadual</td>\n",
              "      <td>AC</td>\n",
              "      <td>Rio Branco</td>\n",
              "      <td>Masculino</td>\n",
              "      <td>Estabelecimento destinado ao recolhimento de p...</td>\n",
              "      <td>440.0</td>\n",
              "      <td>NaN</td>\n",
              "      <td>440.0</td>\n",
              "    </tr>\n",
              "    <tr>\n",
              "      <th>5</th>\n",
              "      <td>2019</td>\n",
              "      <td>Junho</td>\n",
              "      <td>Estadual</td>\n",
              "      <td>AC</td>\n",
              "      <td>Rio Branco</td>\n",
              "      <td>Feminino</td>\n",
              "      <td>Estabelecimento destinado a diversos tipos de ...</td>\n",
              "      <td>NaN</td>\n",
              "      <td>32.0</td>\n",
              "      <td>32.0</td>\n",
              "    </tr>\n",
              "    <tr>\n",
              "      <th>12</th>\n",
              "      <td>2019</td>\n",
              "      <td>Junho</td>\n",
              "      <td>Estadual</td>\n",
              "      <td>AC</td>\n",
              "      <td>Sena Madureira</td>\n",
              "      <td>Masculino</td>\n",
              "      <td>Estabelecimento destinado a diversos tipos de ...</td>\n",
              "      <td>180.0</td>\n",
              "      <td>NaN</td>\n",
              "      <td>180.0</td>\n",
              "    </tr>\n",
              "    <tr>\n",
              "      <th>13</th>\n",
              "      <td>2019</td>\n",
              "      <td>Junho</td>\n",
              "      <td>Estadual</td>\n",
              "      <td>AC</td>\n",
              "      <td>Cruzeiro do Sul</td>\n",
              "      <td>Misto</td>\n",
              "      <td>Outro : Estabelecimento que abriga atualmente ...</td>\n",
              "      <td>447.0</td>\n",
              "      <td>15.0</td>\n",
              "      <td>462.0</td>\n",
              "    </tr>\n",
              "    <tr>\n",
              "      <th>...</th>\n",
              "      <td>...</td>\n",
              "      <td>...</td>\n",
              "      <td>...</td>\n",
              "      <td>...</td>\n",
              "      <td>...</td>\n",
              "      <td>...</td>\n",
              "      <td>...</td>\n",
              "      <td>...</td>\n",
              "      <td>...</td>\n",
              "      <td>...</td>\n",
              "    </tr>\n",
              "    <tr>\n",
              "      <th>7089</th>\n",
              "      <td>2020</td>\n",
              "      <td>Dezembro</td>\n",
              "      <td>Estadual</td>\n",
              "      <td>TO</td>\n",
              "      <td>Miranorte</td>\n",
              "      <td>Masculino</td>\n",
              "      <td>Estabelecimento destinado ao cumprimento de pe...</td>\n",
              "      <td>21.0</td>\n",
              "      <td>NaN</td>\n",
              "      <td>21.0</td>\n",
              "    </tr>\n",
              "    <tr>\n",
              "      <th>7091</th>\n",
              "      <td>2020</td>\n",
              "      <td>Dezembro</td>\n",
              "      <td>Estadual</td>\n",
              "      <td>TO</td>\n",
              "      <td>Palmas</td>\n",
              "      <td>Masculino</td>\n",
              "      <td>Outro : Estabelecimento destinado ao  recolhim...</td>\n",
              "      <td>240.0</td>\n",
              "      <td>NaN</td>\n",
              "      <td>240.0</td>\n",
              "    </tr>\n",
              "    <tr>\n",
              "      <th>7092</th>\n",
              "      <td>2020</td>\n",
              "      <td>Dezembro</td>\n",
              "      <td>Estadual</td>\n",
              "      <td>TO</td>\n",
              "      <td>Palmeirópolis</td>\n",
              "      <td>Masculino</td>\n",
              "      <td>Estabelecimento destinado ao recolhimento de p...</td>\n",
              "      <td>16.0</td>\n",
              "      <td>0.0</td>\n",
              "      <td>16.0</td>\n",
              "    </tr>\n",
              "    <tr>\n",
              "      <th>7093</th>\n",
              "      <td>2020</td>\n",
              "      <td>Dezembro</td>\n",
              "      <td>Estadual</td>\n",
              "      <td>TO</td>\n",
              "      <td>Paraíso do Tocantins</td>\n",
              "      <td>Misto</td>\n",
              "      <td>Estabelecimento destinado a diversos tipos de ...</td>\n",
              "      <td>100.0</td>\n",
              "      <td>NaN</td>\n",
              "      <td>100.0</td>\n",
              "    </tr>\n",
              "    <tr>\n",
              "      <th>7096</th>\n",
              "      <td>2020</td>\n",
              "      <td>Dezembro</td>\n",
              "      <td>Estadual</td>\n",
              "      <td>TO</td>\n",
              "      <td>Porto Nacional</td>\n",
              "      <td>Masculino</td>\n",
              "      <td>Estabelecimento destinado ao recolhimento de p...</td>\n",
              "      <td>40.0</td>\n",
              "      <td>NaN</td>\n",
              "      <td>40.0</td>\n",
              "    </tr>\n",
              "  </tbody>\n",
              "</table>\n",
              "<p>2996 rows × 10 columns</p>\n",
              "</div>"
            ],
            "text/plain": [
              "       Ano       Mes  ... Capacidade mulheres Capacidade total\n",
              "3     2019     Junho  ...               100.0            200.0\n",
              "4     2019     Junho  ...                 NaN            440.0\n",
              "5     2019     Junho  ...                32.0             32.0\n",
              "12    2019     Junho  ...                 NaN            180.0\n",
              "13    2019     Junho  ...                15.0            462.0\n",
              "...    ...       ...  ...                 ...              ...\n",
              "7089  2020  Dezembro  ...                 NaN             21.0\n",
              "7091  2020  Dezembro  ...                 NaN            240.0\n",
              "7092  2020  Dezembro  ...                 0.0             16.0\n",
              "7093  2020  Dezembro  ...                 NaN            100.0\n",
              "7096  2020  Dezembro  ...                 NaN             40.0\n",
              "\n",
              "[2996 rows x 10 columns]"
            ]
          },
          "metadata": {
            "tags": []
          },
          "execution_count": 154
        }
      ]
    },
    {
      "cell_type": "markdown",
      "metadata": {
        "id": "whjPmywcF-X2"
      },
      "source": [
        "###### Realizando a limpeza de dados, restam 2996 linhas preenchidas, possivelmente de forma correta."
      ]
    },
    {
      "cell_type": "code",
      "metadata": {
        "colab": {
          "base_uri": "https://localhost:8080/"
        },
        "id": "6G0K7CGUGNIx",
        "outputId": "63c35663-a0e9-481d-fb44-413082e3553e"
      },
      "source": [
        "print(df1)"
      ],
      "execution_count": null,
      "outputs": [
        {
          "output_type": "stream",
          "text": [
            "       Ano       Mes  ... Capacidade mulheres Capacidade total\n",
            "3     2019     Junho  ...               100.0            200.0\n",
            "4     2019     Junho  ...                 NaN            440.0\n",
            "5     2019     Junho  ...                32.0             32.0\n",
            "12    2019     Junho  ...                 NaN            180.0\n",
            "13    2019     Junho  ...                15.0            462.0\n",
            "...    ...       ...  ...                 ...              ...\n",
            "7089  2020  Dezembro  ...                 NaN             21.0\n",
            "7091  2020  Dezembro  ...                 NaN            240.0\n",
            "7092  2020  Dezembro  ...                 0.0             16.0\n",
            "7093  2020  Dezembro  ...                 NaN            100.0\n",
            "7096  2020  Dezembro  ...                 NaN             40.0\n",
            "\n",
            "[2996 rows x 10 columns]\n"
          ],
          "name": "stdout"
        }
      ]
    },
    {
      "cell_type": "markdown",
      "metadata": {
        "id": "1YOV3ECCGTBN"
      },
      "source": [
        "### Antes de trabalhar com os dados limpos, é possível realizar a análise de eficiência de colaboração das unidades federativas."
      ]
    },
    {
      "cell_type": "markdown",
      "metadata": {
        "id": "bMpW76q5Glwb"
      },
      "source": [
        "##### Neste passo, podemos analisar graficamente os estados que menos preenchem os dados."
      ]
    },
    {
      "cell_type": "code",
      "metadata": {
        "colab": {
          "base_uri": "https://localhost:8080/",
          "height": 572
        },
        "id": "gDkLWrMzkw7A",
        "outputId": "034d50f9-46f5-43c0-e4a6-c22e4a8f5c8f"
      },
      "source": [
        "# Pode-se fazer o inverso do dataframe anterior, e manter apenas os estados que não preencheram corretamente:\r\n",
        "df2 = pd.DataFrame()\r\n",
        "df2 = sisdepen_drop[~((sisdepen_drop['Capacidade total'] != 0))]\r\n",
        "print('Total de',str(len(df2)),'registros')\r\n",
        "\r\n",
        "df2"
      ],
      "execution_count": null,
      "outputs": [
        {
          "output_type": "stream",
          "text": [
            "Total de 636 registros\n"
          ],
          "name": "stdout"
        },
        {
          "output_type": "execute_result",
          "data": {
            "text/html": [
              "<div>\n",
              "<style scoped>\n",
              "    .dataframe tbody tr th:only-of-type {\n",
              "        vertical-align: middle;\n",
              "    }\n",
              "\n",
              "    .dataframe tbody tr th {\n",
              "        vertical-align: top;\n",
              "    }\n",
              "\n",
              "    .dataframe thead th {\n",
              "        text-align: right;\n",
              "    }\n",
              "</style>\n",
              "<table border=\"1\" class=\"dataframe\">\n",
              "  <thead>\n",
              "    <tr style=\"text-align: right;\">\n",
              "      <th></th>\n",
              "      <th>Ano</th>\n",
              "      <th>Mes</th>\n",
              "      <th>Unidade</th>\n",
              "      <th>Estado</th>\n",
              "      <th>Cidade</th>\n",
              "      <th>Sexo</th>\n",
              "      <th>Tipo do estabelecimento penal</th>\n",
              "      <th>Capacidade homens</th>\n",
              "      <th>Capacidade mulheres</th>\n",
              "      <th>Capacidade total</th>\n",
              "    </tr>\n",
              "  </thead>\n",
              "  <tbody>\n",
              "    <tr>\n",
              "      <th>1</th>\n",
              "      <td>2019</td>\n",
              "      <td>Junho</td>\n",
              "      <td>Estadual</td>\n",
              "      <td>AC</td>\n",
              "      <td>Feijó</td>\n",
              "      <td>Misto</td>\n",
              "      <td>Outro : Monitoramento eletronico</td>\n",
              "      <td>0.0</td>\n",
              "      <td>0.0</td>\n",
              "      <td>0.0</td>\n",
              "    </tr>\n",
              "    <tr>\n",
              "      <th>2</th>\n",
              "      <td>2019</td>\n",
              "      <td>Junho</td>\n",
              "      <td>Estadual</td>\n",
              "      <td>AC</td>\n",
              "      <td>Tarauacá</td>\n",
              "      <td>Misto</td>\n",
              "      <td>Outro : Monitoramento eletronico</td>\n",
              "      <td>0.0</td>\n",
              "      <td>0.0</td>\n",
              "      <td>0.0</td>\n",
              "    </tr>\n",
              "    <tr>\n",
              "      <th>7</th>\n",
              "      <td>2019</td>\n",
              "      <td>Junho</td>\n",
              "      <td>Estadual</td>\n",
              "      <td>AC</td>\n",
              "      <td>Rio Branco</td>\n",
              "      <td>Masculino</td>\n",
              "      <td>Estabelecimento destinado ao cumprimento de pe...</td>\n",
              "      <td>0.0</td>\n",
              "      <td>0.0</td>\n",
              "      <td>0.0</td>\n",
              "    </tr>\n",
              "    <tr>\n",
              "      <th>10</th>\n",
              "      <td>2019</td>\n",
              "      <td>Junho</td>\n",
              "      <td>Estadual</td>\n",
              "      <td>AC</td>\n",
              "      <td>Rio Branco</td>\n",
              "      <td>Masculino</td>\n",
              "      <td>Estabelecimento destinado ao cumprimento de pe...</td>\n",
              "      <td>0.0</td>\n",
              "      <td>0.0</td>\n",
              "      <td>0.0</td>\n",
              "    </tr>\n",
              "    <tr>\n",
              "      <th>28</th>\n",
              "      <td>2019</td>\n",
              "      <td>Junho</td>\n",
              "      <td>Estadual</td>\n",
              "      <td>AM</td>\n",
              "      <td>Manaus</td>\n",
              "      <td>Masculino</td>\n",
              "      <td>Estabelecimento destinado ao cumprimento de pe...</td>\n",
              "      <td>0.0</td>\n",
              "      <td>0.0</td>\n",
              "      <td>0.0</td>\n",
              "    </tr>\n",
              "    <tr>\n",
              "      <th>...</th>\n",
              "      <td>...</td>\n",
              "      <td>...</td>\n",
              "      <td>...</td>\n",
              "      <td>...</td>\n",
              "      <td>...</td>\n",
              "      <td>...</td>\n",
              "      <td>...</td>\n",
              "      <td>...</td>\n",
              "      <td>...</td>\n",
              "      <td>...</td>\n",
              "    </tr>\n",
              "    <tr>\n",
              "      <th>7046</th>\n",
              "      <td>2020</td>\n",
              "      <td>Dezembro</td>\n",
              "      <td>Estadual</td>\n",
              "      <td>SP</td>\n",
              "      <td>Lavínia</td>\n",
              "      <td>Masculino</td>\n",
              "      <td>Estabelecimento destinado ao cumprimento de pe...</td>\n",
              "      <td>0.0</td>\n",
              "      <td>0.0</td>\n",
              "      <td>0.0</td>\n",
              "    </tr>\n",
              "    <tr>\n",
              "      <th>7050</th>\n",
              "      <td>2020</td>\n",
              "      <td>Dezembro</td>\n",
              "      <td>Estadual</td>\n",
              "      <td>SP</td>\n",
              "      <td>Avaré</td>\n",
              "      <td>Masculino</td>\n",
              "      <td>Estabelecimento destinado ao cumprimento de pe...</td>\n",
              "      <td>0.0</td>\n",
              "      <td>0.0</td>\n",
              "      <td>0.0</td>\n",
              "    </tr>\n",
              "    <tr>\n",
              "      <th>7053</th>\n",
              "      <td>2020</td>\n",
              "      <td>Dezembro</td>\n",
              "      <td>Estadual</td>\n",
              "      <td>SP</td>\n",
              "      <td>Lavínia</td>\n",
              "      <td>Masculino</td>\n",
              "      <td>Estabelecimento destinado ao cumprimento de pe...</td>\n",
              "      <td>0.0</td>\n",
              "      <td>0.0</td>\n",
              "      <td>0.0</td>\n",
              "    </tr>\n",
              "    <tr>\n",
              "      <th>7054</th>\n",
              "      <td>2020</td>\n",
              "      <td>Dezembro</td>\n",
              "      <td>Estadual</td>\n",
              "      <td>SP</td>\n",
              "      <td>Potim</td>\n",
              "      <td>Masculino</td>\n",
              "      <td>Estabelecimento destinado a diversos tipos de ...</td>\n",
              "      <td>0.0</td>\n",
              "      <td>NaN</td>\n",
              "      <td>0.0</td>\n",
              "    </tr>\n",
              "    <tr>\n",
              "      <th>7107</th>\n",
              "      <td>2020</td>\n",
              "      <td>Dezembro</td>\n",
              "      <td>Federal</td>\n",
              "      <td>DF</td>\n",
              "      <td>Brasília</td>\n",
              "      <td>Masculino</td>\n",
              "      <td>Estabelecimento destinado ao cumprimento de pe...</td>\n",
              "      <td>0.0</td>\n",
              "      <td>0.0</td>\n",
              "      <td>0.0</td>\n",
              "    </tr>\n",
              "  </tbody>\n",
              "</table>\n",
              "<p>636 rows × 10 columns</p>\n",
              "</div>"
            ],
            "text/plain": [
              "       Ano       Mes  ... Capacidade mulheres Capacidade total\n",
              "1     2019     Junho  ...                 0.0              0.0\n",
              "2     2019     Junho  ...                 0.0              0.0\n",
              "7     2019     Junho  ...                 0.0              0.0\n",
              "10    2019     Junho  ...                 0.0              0.0\n",
              "28    2019     Junho  ...                 0.0              0.0\n",
              "...    ...       ...  ...                 ...              ...\n",
              "7046  2020  Dezembro  ...                 0.0              0.0\n",
              "7050  2020  Dezembro  ...                 0.0              0.0\n",
              "7053  2020  Dezembro  ...                 0.0              0.0\n",
              "7054  2020  Dezembro  ...                 NaN              0.0\n",
              "7107  2020  Dezembro  ...                 0.0              0.0\n",
              "\n",
              "[636 rows x 10 columns]"
            ]
          },
          "metadata": {
            "tags": []
          },
          "execution_count": 156
        }
      ]
    },
    {
      "cell_type": "markdown",
      "metadata": {
        "id": "vAsLGIbbGxn9"
      },
      "source": [
        "##### Tendo os dados, pode-se analisar graficamente os estados pouco colaborativos:"
      ]
    },
    {
      "cell_type": "code",
      "metadata": {
        "colab": {
          "base_uri": "https://localhost:8080/",
          "height": 334
        },
        "id": "pPC_KCrQrU0D",
        "outputId": "05f1e1bd-4fe5-4c36-c83c-37c26be88323"
      },
      "source": [
        "fig = plt.figure(figsize=(15,5))\r\n",
        "estado_nulo = sns.countplot(x='Estado', data=df2, order=df2['Estado'].value_counts().index)\r\n",
        "\r\n",
        "# São Paulo, Minas Gerais, Rio Grande do Sul e Mato Grosso do Sul são os estados que mais preencheram de forma errônea.\r\n",
        "# Dada a população de Mato Grosso do Sul, pode-se dizer que é o estado que mais negligencia o preenchimento em relação à sua população.\r\n",
        "# Desconsiderando a população total do estado, São Paulo é discrepante em relação a Minas Gerais, que é o segundo estado mais negligente.\r\n",
        "# Minas Gerais, sendo o segundo estado mais negligente, é discrepante em relação a todos os demais.\r\n",
        "# É válido mencionar que nem todas as unidades federativas se encontram na listagem, o que denota estados colaborativos."
      ],
      "execution_count": null,
      "outputs": [
        {
          "output_type": "display_data",
          "data": {
            "image/png": "[encoded data removed]",
            "text/plain": [
              "<Figure size 1080x360 with 1 Axes>"
            ]
          },
          "metadata": {
            "tags": [],
            "needs_background": "light"
          }
        }
      ]
    },
    {
      "cell_type": "markdown",
      "metadata": {
        "id": "-n-E0I1MG_68"
      },
      "source": [
        "##### Pode-se agora analisar os estados por efetiva colaboração no preenchimento por linhas:\r\n"
      ]
    },
    {
      "cell_type": "code",
      "metadata": {
        "id": "dx5_o5j9GMGZ",
        "colab": {
          "base_uri": "https://localhost:8080/",
          "height": 334
        },
        "outputId": "e6b8e2da-c271-44f0-fd84-a36483cd977f"
      },
      "source": [
        "fig = plt.figure(figsize=(15,5))\r\n",
        "estado_colab1 = sns.countplot(x='Estado', data=df1, order=df1['Estado'].value_counts().index)\r\n",
        "# Minas Gerais, Goiás e Pernambuco e São Paulo são os estados que mais preencheram de forma correta.\r\n",
        "# No caso de São Paulo, sendo o estado mais populoso da União, estar em quarto é uma situação muito aquém do correto.\r\n",
        "# Minas Gerais foi o segundo que preencheu de forma mais errônea, porém o primeiro na colaboração correta.\r\n",
        "# Além disso, a colaboração de Minas Gerais é discrepante em relação às demais, praticamente um outlier.\r\n",
        "# Assim, considera-que Minas Gerais é o estado mais colaborativo de todos, por uma margem enorme de diferença."
      ],
      "execution_count": null,
      "outputs": [
        {
          "output_type": "display_data",
          "data": {
            "image/png": "[encoded data removed]",
            "text/plain": [
              "<Figure size 1080x360 with 1 Axes>"
            ]
          },
          "metadata": {
            "tags": [],
            "needs_background": "light"
          }
        }
      ]
    },
    {
      "cell_type": "markdown",
      "metadata": {
        "id": "q05kzFDSH-dr"
      },
      "source": [
        "##### Agora, pode-se analisar os estados por capacidade total, nas linhas corretamente preenchidas:"
      ]
    },
    {
      "cell_type": "code",
      "metadata": {
        "colab": {
          "base_uri": "https://localhost:8080/",
          "height": 334
        },
        "id": "IYM-QPk1xoNg",
        "outputId": "5facc1b1-43fd-4d3c-f616-638962f9a860"
      },
      "source": [
        "fig = plt.figure(figsize=(15,5))\r\n",
        "estado_colab2 = sns.barplot(data=df1, x='Estado', y='Capacidade total')\r\n",
        "\r\n",
        "# Distrito Federal, São Paulo, Rio de Janeiro e Alagoas são os estados que mais possuem capacidade, dentre os preenchidos corretamente.\r\n",
        "# Isto não significa que o Distrito Federal seja a UF que mais possui capacidade total no país, e sim que DF foi mais colaborativo que SP.\r\n",
        "# Isso demonstra o quanto São Paulo negligenciou informar dados à União.\r\n",
        "# Pela análise do gráfico em comparação ao gráfico anterior, verifica-se que, apesar de o estado de Minas Gerais ter sido bem colaborativo,\r\n",
        "# A colaboração não demonstra que os dados informados apresentem a população do estado e sim uma amostragem ínfima.\r\n",
        "# A parcela de MG que não teve preenchimento no gráfico de negligência afetou bastante este valor.\r\n",
        "# Pela análise da tabela e dos gráficos, então cabe definir DF como o estado que mais colabora com o DEPEN.\r\n",
        "# Um fator para isso ocorrer é que a Sede do DEPEN também fica no DF, e a colaboração com a secretaria de segurança do DF é grande."
      ],
      "execution_count": null,
      "outputs": [
        {
          "output_type": "display_data",
          "data": {
            "image/png": "[encoded data removed]",
            "text/plain": [
              "<Figure size 1080x360 with 1 Axes>"
            ]
          },
          "metadata": {
            "tags": [],
            "needs_background": "light"
          }
        }
      ]
    },
    {
      "cell_type": "markdown",
      "metadata": {
        "id": "XOsR-IznJo8W"
      },
      "source": [
        "\r\n",
        "## Conclusões e Achados"
      ]
    },
    {
      "cell_type": "markdown",
      "metadata": {
        "id": "O0gzz_cv2tg-"
      },
      "source": [
        "##### Os estados pouco querem colaborar com informações no SISDEPEN;\r\n",
        "##### O Distrito Federal foi a UF mais eficiente na população de dados;\r\n",
        "##### São Paulo é o estado mais negligente em relação a população de dados no Sisdepen. Nesse caso, pode haver relação com a política da União, que vai de encontro à política do estado.\r\n",
        "##### É preciso que o DEPEN melhore a comunicação com as unidades federativas, pois o Sisdepen não está servindo ao propósito de informar com eficiência a respeito dos dados prisionais;\r\n",
        "##### Realizar uma análise na tabela com os dados já limpos levariam tal a um caminho errado pois a tabela, que foi retirada do próprio Sisdepen, teve muitas linhas sem preenchimentos ou com preenchimentos errados, e isso porque somente foram consideradas algumas colunas.\r\n",
        "##### Conclui-se que a tabela de informações prisionais não serve para obter dados confiáveis, assim, não há como comparar informações prisionais de forma correta.\r\n",
        "##### Seria necessário um controle a ser feito entre o DEPEN e as UF, para que a população dos dados seja o mais próximo da verdade."
      ]
    }
  ]
}